{
 "cells": [
  {
   "cell_type": "markdown",
   "id": "756bce22",
   "metadata": {},
   "source": [
    "# Résolution d'equations linéaires d'ordre 1 par la méthode d'Euler"
   ]
  },
  {
   "cell_type": "markdown",
   "id": "71d20877",
   "metadata": {},
   "source": [
    "La méthode d'Euler est une méthode de résolution d'équations dfférentielles du type $$\\frac{dy}{dx} = F(y,x)$$"
   ]
  },
  {
   "cell_type": "markdown",
   "id": "aaee47e4",
   "metadata": {},
   "source": [
    "La méthode utilise le principe suivant : par définition on a $$\\frac{dy}{dx}(x) = \\lim_{h\\rightarrow 0} \\frac{y(x+h)-y(x)}{h} $$"
   ]
  },
  {
   "cell_type": "markdown",
   "id": "c43bc98a",
   "metadata": {},
   "source": [
    "On peut donc approximer numériquement la dérivée d'une fonction, lorsque $h$ est suffisamment petit, par $$\\frac{dy}{dx} \\approx \\frac{y(x+h)-y(x)}{h}$$"
   ]
  },
  {
   "cell_type": "markdown",
   "id": "94ede2a9",
   "metadata": {},
   "source": [
    "##### Importation des modules utiles"
   ]
  },
  {
   "cell_type": "code",
   "execution_count": 1,
   "id": "5653d1fb",
   "metadata": {},
   "outputs": [],
   "source": [
    "import numpy as np\n",
    "import matplotlib.pyplot as plt"
   ]
  },
  {
   "cell_type": "markdown",
   "id": "959625e8",
   "metadata": {},
   "source": [
    "## A - Etude d'un exemple"
   ]
  },
  {
   "cell_type": "markdown",
   "id": "6b23b7d1",
   "metadata": {},
   "source": [
    "On étudie l'équation différentielle suivante : $$\\frac{df}{dx} = -2xf(x) \\qquad \\text{avec} \\qquad f(0) = 1$$"
   ]
  },
  {
   "cell_type": "markdown",
   "id": "32ce998d",
   "metadata": {},
   "source": [
    "Sa solution exacte est $f:x \\mapsto \\exp(-x^2)$"
   ]
  },
  {
   "cell_type": "markdown",
   "id": "dec9de5c",
   "metadata": {},
   "source": [
    "### 1 - Méthode d'Euler explicite"
   ]
  },
  {
   "cell_type": "markdown",
   "id": "9745c40d",
   "metadata": {},
   "source": [
    "La dérivée de la fonction $f$ est approximée, pour $h$ suffisament petit, par $$\\frac{df}{dx} \\approx \\frac{f(x+h)-f(x)}{h} = -2xf(x)$$"
   ]
  },
  {
   "cell_type": "markdown",
   "id": "dbde1f28",
   "metadata": {},
   "source": [
    "On a donc $$ f(x+h) = (1-2hx)f(x) $$"
   ]
  },
  {
   "cell_type": "markdown",
   "id": "23b877a4",
   "metadata": {},
   "source": [
    "On note $x_0 = 0$ et $x_n = nh$, de sorte que $x_n+h = x_{n+1}$. \n",
    "L'équation précédente s'écrit $$ f(x_{n+1}) = (1-2hx_n)f(x_n) $$"
   ]
  },
  {
   "cell_type": "markdown",
   "id": "cd181ba7",
   "metadata": {},
   "source": [
    "Enfin, on note $f_n = f(x_n)$, ainsi $$ f_{n+1} = (1-2hx_n)f_n$$"
   ]
  },
  {
   "cell_type": "markdown",
   "id": "84c78ba8",
   "metadata": {},
   "source": [
    "On dispose donc d'une relation de récurrence qui nous permet de calculer les termes de cette suite."
   ]
  },
  {
   "cell_type": "markdown",
   "id": "88c43a6e",
   "metadata": {},
   "source": [
    "Le programme ci-dessous implémente ce calcul."
   ]
  },
  {
   "cell_type": "code",
   "execution_count": 2,
   "id": "0896f9a9",
   "metadata": {},
   "outputs": [],
   "source": [
    "b = 3.0 # dernier terme de calcul\n",
    "h = 0.1 # le pas de calcul de l'algorithme\n",
    "N = int(b/h) # nombre de termes à calculer\n",
    "\n",
    "\n",
    "x = np.zeros((N)) # on cree deux tableaux vides\n",
    "f = np.zeros((N))\n",
    "\n",
    "x[0] = 0.0 # on initialise avec f(0) = 1.0\n",
    "f[0] = 1.0 \n",
    "\n",
    "for i in range(N-1):\n",
    "    x[i+1] = x[i] + h\n",
    "    f[i+1] = (1-2*h*x[i]) * f[i]"
   ]
  },
  {
   "cell_type": "markdown",
   "id": "d6fbf711",
   "metadata": {},
   "source": [
    "Voici le tracé, comparé à la solution exacte."
   ]
  },
  {
   "cell_type": "code",
   "execution_count": 3,
   "id": "6f5b3185",
   "metadata": {},
   "outputs": [
    {
     "data": {
      "image/png": "[encoded data removed]",
      "text/plain": [
       "<Figure size 432x288 with 1 Axes>"
      ]
     },
     "metadata": {
      "needs_background": "light"
     },
     "output_type": "display_data"
    }
   ],
   "source": [
    "plt.plot(x,f,label=\"méthode d'Euler explicite\")\n",
    "u = np.linspace(min(x),max(x),num=1000)\n",
    "plt.plot(u,np.exp(-u**2),label=\"solution exacte\")\n",
    "plt.xlabel('x')\n",
    "plt.ylabel('f(x)')\n",
    "plt.legend()\n",
    "plt.show()"
   ]
  },
  {
   "cell_type": "markdown",
   "id": "dcb2bf71",
   "metadata": {},
   "source": [
    "Et voici le tracé des erreurs"
   ]
  },
  {
   "cell_type": "markdown",
   "id": "1c481bc6",
   "metadata": {},
   "source": [
    "### Méthode d'Euler implicite"
   ]
  },
  {
   "cell_type": "markdown",
   "id": "e17c0ccd",
   "metadata": {},
   "source": [
    "La dérivée de la fonction $f$ est approximée, pour $h$ suffisament petit, par $$\\frac{df}{dx} \\approx \\frac{f(x)-f(x-h)}{h} = -2xf(x)$$"
   ]
  },
  {
   "cell_type": "markdown",
   "id": "36a944b7",
   "metadata": {},
   "source": [
    "On a donc $$ f(x) = \\frac{1}{1+2hx} f(x-h) $$"
   ]
  },
  {
   "cell_type": "markdown",
   "id": "ad05d6a9",
   "metadata": {},
   "source": [
    "La discrétisation donne $$f_n = \\frac{1}{1+2hx_n} f_{n-1}$$"
   ]
  },
  {
   "cell_type": "markdown",
   "id": "ae419806",
   "metadata": {},
   "source": [
    "On dispose donc d'une relation de récurrence qui nous permet de calculer les termes de cette suite."
   ]
  },
  {
   "cell_type": "markdown",
   "id": "8cafe213",
   "metadata": {},
   "source": [
    "Le programme ci-dessous implémente ce calcul."
   ]
  },
  {
   "cell_type": "code",
   "execution_count": 4,
   "id": "90ab9253",
   "metadata": {},
   "outputs": [],
   "source": [
    "b = 3.0 # dernier terme de calcul\n",
    "h = 0.1 # le pas de calcul de l'algorithme\n",
    "N = int(b/h) # nombre de termes à calculer\n",
    "\n",
    "\n",
    "x = np.zeros((N)) # on cree deux tableaux vides\n",
    "f = np.zeros((N))\n",
    "\n",
    "x[0] = 0.0 # on initialise avec f(0) = 1.0\n",
    "f[0] = 1.0 \n",
    "\n",
    "for i in range(1,N):\n",
    "    x[i] = x[i-1] + h\n",
    "    f[i] = 1/(1+2*h*x[i]) * f[i-1]"
   ]
  },
  {
   "cell_type": "code",
   "execution_count": 5,
   "id": "ce53f8e8",
   "metadata": {},
   "outputs": [
    {
     "data": {
      "image/png": "[encoded data removed]",
      "text/plain": [
       "<Figure size 432x288 with 1 Axes>"
      ]
     },
     "metadata": {
      "needs_background": "light"
     },
     "output_type": "display_data"
    }
   ],
   "source": [
    "plt.plot(x,f,label=\"méthode d'Euler implicite\")\n",
    "u = np.linspace(min(x),max(x),num=1000)\n",
    "plt.plot(u,np.exp(-u**2),label=\"solution exacte\")\n",
    "plt.xlabel('x')\n",
    "plt.ylabel('f(x)')\n",
    "plt.legend()\n",
    "plt.show()"
   ]
  },
  {
   "cell_type": "markdown",
   "id": "b79ad918",
   "metadata": {},
   "source": [
    "## B - Chargement d'un condensateur par une rampe"
   ]
  },
  {
   "cell_type": "markdown",
   "id": "17f65ba9",
   "metadata": {},
   "source": [
    "On étudie l'équation $$\\tau \\frac{du}{dt} + u(t) = e(t) $$"
   ]
  },
  {
   "cell_type": "markdown",
   "id": "0abf374f",
   "metadata": {},
   "source": [
    "avec la condition initiale $u(0)=0$ et $$e(t) = \\begin{cases} 0 & \\text{pour } t<0 \\\\\n",
    " at & \\text{pour } 0<t<\\frac{E}{a} \\\\\n",
    "  E & \\text{pour } t>\\frac{E}{a}\\end{cases} $$"
   ]
  },
  {
   "cell_type": "markdown",
   "id": "176baaec",
   "metadata": {},
   "source": [
    "Définissons cette fonction $e(t)$ :"
   ]
  },
  {
   "cell_type": "code",
   "execution_count": 6,
   "id": "fea324e4",
   "metadata": {},
   "outputs": [
    {
     "data": {
      "image/png": "[encoded data removed]",
      "text/plain": [
       "<Figure size 432x288 with 1 Axes>"
      ]
     },
     "metadata": {
      "needs_background": "light"
     },
     "output_type": "display_data"
    }
   ],
   "source": [
    "a = 0.5\n",
    "E = 2.0\n",
    "def e(t):\n",
    "    if t<0.0:\n",
    "        return 0\n",
    "    elif t<E/a:\n",
    "        return a*t\n",
    "    else:\n",
    "        return E\n",
    "\n",
    "t1 = np.linspace(-1,2*E/a,num=1000)\n",
    "et1 = np.zeros(len(t1))\n",
    "for i in range(len(t1)):\n",
    "    et1[i] = e(t1[i])\n",
    "\n",
    "plt.plot(t1,et1,label='e(t)')\n",
    "plt.xlabel('t')\n",
    "plt.ylabel('u(t)')\n",
    "plt.legend()\n",
    "plt.show()"
   ]
  },
  {
   "cell_type": "markdown",
   "id": "72bd54ab",
   "metadata": {},
   "source": [
    "Utilisons la méthode d'Euler explicite : $$ u_{n+1} = (1-\\frac{h}{\\tau})u_n + \\frac{h}{\\tau}e_n $$ "
   ]
  },
  {
   "cell_type": "code",
   "execution_count": 7,
   "id": "03db21f2",
   "metadata": {},
   "outputs": [
    {
     "data": {
      "image/png": "[encoded data removed]",
      "text/plain": [
       "<Figure size 432x288 with 1 Axes>"
      ]
     },
     "metadata": {
      "needs_background": "light"
     },
     "output_type": "display_data"
    }
   ],
   "source": [
    "h = 0.01\n",
    "tau = 1.0\n",
    "b = 8.0\n",
    "N = int(b/h)\n",
    "\n",
    "t = np.zeros((N))\n",
    "u = np.zeros((N))\n",
    "t[0] = 0.0\n",
    "u[0] = 0.0\n",
    "for i in range(N-1):\n",
    "    t[i+1] = t[i] + h\n",
    "    u[i+1] = (1-h/tau)*u[i] + h/tau*e(t[i]) \n",
    "\n",
    "plt.plot(t1,et1,label='e(t)')\n",
    "plt.plot(t,u,label='u(t) pour la rampe')\n",
    "plt.plot(t,E*(1-np.exp(-t/tau)),label='u(t) pour un echelon')\n",
    "#plt.plot(t,a*t+a*tau*(np.exp(-t/tau)-1) )\n",
    "plt.xlabel('t')\n",
    "plt.ylabel('u(t)')\n",
    "plt.legend()\n",
    "plt.show()"
   ]
  }
 ],
 "metadata": {
  "kernelspec": {
   "display_name": "Python 3 (ipykernel)",
   "language": "python",
   "name": "python3"
  },
  "language_info": {
   "codemirror_mode": {
    "name": "ipython",
    "version": 3
   },
   "file_extension": ".py",
   "mimetype": "text/x-python",
   "name": "python",
   "nbconvert_exporter": "python",
   "pygments_lexer": "ipython3",
   "version": "3.10.6"
  }
 },
 "nbformat": 4,
 "nbformat_minor": 5
}
